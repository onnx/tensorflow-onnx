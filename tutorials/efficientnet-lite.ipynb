{
 "cells": [
  {
   "cell_type": "markdown",
   "metadata": {},
   "source": [
    "# Converting efficientnet-lite from Tensorflow to ONNX"
   ]
  },
  {
   "cell_type": "markdown",
   "metadata": {},
   "source": [
    "Google recently [published a new flavor of efficientnet models](\n",
    "https://blog.tensorflow.org/2020/03/higher-accuracy-on-vision-models-with-efficientnet-lite.html) that show great performance and accuracy on all mobile CPU/GPU/EdgeTPU devices. The models are found [here](https://github.com/tensorflow/tpu/tree/master/models/official/efficientnet/lite). \n",
    "This tutorial shows how to convert them to ONNX.\n",
    "\n",
    "To start, we setup a few environment variables and download the pre-trained model."
   ]
  },
  {
   "cell_type": "code",
   "execution_count": 2,
   "metadata": {},
   "outputs": [],
   "source": [
    "import os\n",
    "\n",
    "HOME = os.getcwd()\n",
    "MODEL = \"efficientnet-lite4\"\n",
    "os.environ['PYTHONPATH'] = os.path.join(HOME, \"tpu\")\n",
    "os.environ['MODEL'] = MODEL\n",
    "os.environ['CUDA_VISIBLE_DEVICES'] = \"\""
   ]
  },
  {
   "cell_type": "code",
   "execution_count": 3,
   "metadata": {},
   "outputs": [
    {
     "name": "stdout",
     "output_type": "stream",
     "text": [
      "/mnt/sdb/home/ipython/notebooks/onnx\n",
      "Cloning into 'tpu'...\n",
      "remote: Enumerating objects: 229, done.\u001b[K\n",
      "remote: Counting objects: 100% (229/229), done.\u001b[K\n",
      "remote: Compressing objects: 100% (166/166), done.\u001b[K\n",
      "remote: Total 9392 (delta 112), reused 144 (delta 57), pack-reused 9163\u001b[K\n",
      "Receiving objects: 100% (9392/9392), 24.21 MiB | 18.79 MiB/s, done.\n",
      "Resolving deltas: 100% (6703/6703), done.\n",
      "Checking connectivity... done.\n"
     ]
    }
   ],
   "source": [
    "%cd {HOME}\n",
    "!git clone https://github.com/tensorflow/tpu\n",
    "%cd {HOME}/tpu/models/official/efficientnet"
   ]
  },
  {
   "cell_type": "code",
   "execution_count": 4,
   "metadata": {},
   "outputs": [
    {
     "name": "stdout",
     "output_type": "stream",
     "text": [
      "--2020-07-28 18:37:49--  https://storage.googleapis.com/cloud-tpu-checkpoints/efficientnet/lite/efficientnet-lite4.tar.gz\n",
      "Resolving storage.googleapis.com (storage.googleapis.com)... 172.217.5.112, 172.217.6.48, 216.58.195.80, ...\n",
      "Connecting to storage.googleapis.com (storage.googleapis.com)|172.217.5.112|:443... connected.\n",
      "HTTP request sent, awaiting response... 200 OK\n",
      "Length: 157170313 (150M) [application/octet-stream]\n",
      "Saving to: ‘efficientnet-lite4.tar.gz’\n",
      "\n",
      "efficientnet-lite4. 100%[===================>] 149.89M  20.4MB/s    in 7.4s    \n",
      "\n",
      "2020-07-28 18:37:57 (20.3 MB/s) - ‘efficientnet-lite4.tar.gz’ saved [157170313/157170313]\n",
      "\n"
     ]
    }
   ],
   "source": [
    "!wget https://storage.googleapis.com/cloud-tpu-checkpoints/efficientnet/lite/$MODEL.tar.gz\n",
    "!tar zxf $MODEL.tar.gz\n",
    "!wget -q https://upload.wikimedia.org/wikipedia/commons/f/fe/Giant_Panda_in_Beijing_Zoo_1.JPG -O panda.jpg\n",
    "!wget -q https://storage.googleapis.com/cloud-tpu-checkpoints/efficientnet/eval_data/labels_map.txt"
   ]
  },
  {
   "cell_type": "markdown",
   "metadata": {},
   "source": [
    "Run a evaluation on tensorflow/cpu:"
   ]
  },
  {
   "cell_type": "code",
   "execution_count": 5,
   "metadata": {},
   "outputs": [
    {
     "name": "stdout",
     "output_type": "stream",
     "text": [
      "predicted class for image panda.jpg: \n",
      "  -> top_0 (85.58%): lesser panda, red panda, panda, bear cat, cat bear, Ailurus fulgens  \n",
      "  -> top_1 (0.26%): cheetah, chetah, Acinonyx jubatus  \n",
      "  -> top_2 (0.24%): brown bear, bruin, Ursus arctos  \n",
      "  -> top_3 (0.16%): African elephant, Loxodonta africana  \n",
      "  -> top_4 (0.15%): American black bear, black bear, Ursus americanus, Euarctos americanus  \n"
     ]
    }
   ],
   "source": [
    "!python eval_ckpt_main.py --model_name=$MODEL --ckpt_dir=$MODEL --example_img=panda.jpg --labels_map_file=labels_map.txt --include_background_label"
   ]
  },
  {
   "cell_type": "markdown",
   "metadata": {},
   "source": [
    "We can use the efficientnet ```export_model.py``` script to export the model as saved_model which makes exporting to ONNX very simple:"
   ]
  },
  {
   "cell_type": "code",
   "execution_count": 6,
   "metadata": {},
   "outputs": [
    {
     "name": "stdout",
     "output_type": "stream",
     "text": [
      "I0728 18:38:38.648482 140369404610304 api.py:598] DWConv: efficientnet-lite4/model/blocks_5/Relu6_1:0 shape: (1, 28, 28, 192)\n",
      "I0728 18:38:38.677552 140369404610304 api.py:598] Project: efficientnet-lite4/model/blocks_5/Identity:0 shape: (1, 28, 28, 56)\n",
      "I0728 18:38:38.681590 140369404610304 api.py:598] block_6 survival_prob: 0.96\n",
      "I0728 18:38:38.684866 140369404610304 api.py:598] Block input: efficientnet-lite4/model/blocks_5/Identity:0 shape: (1, 28, 28, 56)\n",
      "I0728 18:38:38.688508 140369404610304 api.py:598] Block input depth: 56 output depth: 56\n",
      "I0728 18:38:38.718307 140369404610304 api.py:598] Expand: efficientnet-lite4/model/blocks_6/Relu6:0 shape: (1, 28, 28, 336)\n",
      "I0728 18:38:38.748890 140369404610304 api.py:598] DWConv: efficientnet-lite4/model/blocks_6/Relu6_1:0 shape: (1, 28, 28, 336)\n",
      "I0728 18:38:38.779977 140369404610304 api.py:598] Project: efficientnet-lite4/model/blocks_6/Add:0 shape: (1, 28, 28, 56)\n",
      "I0728 18:38:38.784030 140369404610304 api.py:598] block_7 survival_prob: 0.9533333333333334\n",
      "I0728 18:38:38.787296 140369404610304 api.py:598] Block input: efficientnet-lite4/model/blocks_6/Add:0 shape: (1, 28, 28, 56)\n",
      "I0728 18:38:38.790412 140369404610304 api.py:598] Block input depth: 56 output depth: 56\n",
      "I0728 18:38:38.821632 140369404610304 api.py:598] Expand: efficientnet-lite4/model/blocks_7/Relu6:0 shape: (1, 28, 28, 336)\n",
      "I0728 18:38:38.853299 140369404610304 api.py:598] DWConv: efficientnet-lite4/model/blocks_7/Relu6_1:0 shape: (1, 28, 28, 336)\n",
      "I0728 18:38:38.885637 140369404610304 api.py:598] Project: efficientnet-lite4/model/blocks_7/Add:0 shape: (1, 28, 28, 56)\n",
      "I0728 18:38:38.889702 140369404610304 api.py:598] block_8 survival_prob: 0.9466666666666667\n",
      "I0728 18:38:38.893043 140369404610304 api.py:598] Block input: efficientnet-lite4/model/blocks_7/Add:0 shape: (1, 28, 28, 56)\n",
      "I0728 18:38:38.896236 140369404610304 api.py:598] Block input depth: 56 output depth: 56\n",
      "I0728 18:38:38.928804 140369404610304 api.py:598] Expand: efficientnet-lite4/model/blocks_8/Relu6:0 shape: (1, 28, 28, 336)\n",
      "I0728 18:38:38.961976 140369404610304 api.py:598] DWConv: efficientnet-lite4/model/blocks_8/Relu6_1:0 shape: (1, 28, 28, 336)\n",
      "I0728 18:38:38.996596 140369404610304 api.py:598] Project: efficientnet-lite4/model/blocks_8/Add:0 shape: (1, 28, 28, 56)\n",
      "I0728 18:38:39.000830 140369404610304 api.py:598] block_9 survival_prob: 0.9400000000000001\n",
      "I0728 18:38:39.004113 140369404610304 api.py:598] Block input: efficientnet-lite4/model/blocks_8/Add:0 shape: (1, 28, 28, 56)\n",
      "I0728 18:38:39.007222 140369404610304 api.py:598] Block input depth: 56 output depth: 112\n",
      "I0728 18:38:39.040756 140369404610304 api.py:598] Expand: efficientnet-lite4/model/blocks_9/Relu6:0 shape: (1, 28, 28, 336)\n",
      "I0728 18:38:39.075290 140369404610304 api.py:598] DWConv: efficientnet-lite4/model/blocks_9/Relu6_1:0 shape: (1, 14, 14, 336)\n",
      "I0728 18:38:39.110903 140369404610304 api.py:598] Project: efficientnet-lite4/model/blocks_9/Identity:0 shape: (1, 14, 14, 112)\n",
      "I0728 18:38:39.114987 140369404610304 api.py:598] block_10 survival_prob: 0.9333333333333333\n",
      "I0728 18:38:39.118490 140369404610304 api.py:598] Block input: efficientnet-lite4/model/blocks_9/Identity:0 shape: (1, 14, 14, 112)\n",
      "I0728 18:38:39.121627 140369404610304 api.py:598] Block input depth: 112 output depth: 112\n",
      "I0728 18:38:39.157878 140369404610304 api.py:598] Expand: efficientnet-lite4/model/blocks_10/Relu6:0 shape: (1, 14, 14, 672)\n",
      "I0728 18:38:39.201611 140369404610304 api.py:598] DWConv: efficientnet-lite4/model/blocks_10/Relu6_1:0 shape: (1, 14, 14, 672)\n",
      "I0728 18:38:39.241122 140369404610304 api.py:598] Project: efficientnet-lite4/model/blocks_10/Add:0 shape: (1, 14, 14, 112)\n",
      "I0728 18:38:39.245910 140369404610304 api.py:598] block_11 survival_prob: 0.9266666666666667\n",
      "I0728 18:38:39.249292 140369404610304 api.py:598] Block input: efficientnet-lite4/model/blocks_10/Add:0 shape: (1, 14, 14, 112)\n",
      "I0728 18:38:39.252506 140369404610304 api.py:598] Block input depth: 112 output depth: 112\n",
      "I0728 18:38:39.291685 140369404610304 api.py:598] Expand: efficientnet-lite4/model/blocks_11/Relu6:0 shape: (1, 14, 14, 672)\n",
      "I0728 18:38:39.330427 140369404610304 api.py:598] DWConv: efficientnet-lite4/model/blocks_11/Relu6_1:0 shape: (1, 14, 14, 672)\n",
      "I0728 18:38:39.369834 140369404610304 api.py:598] Project: efficientnet-lite4/model/blocks_11/Add:0 shape: (1, 14, 14, 112)\n",
      "I0728 18:38:39.373920 140369404610304 api.py:598] block_12 survival_prob: 0.92\n",
      "I0728 18:38:39.377205 140369404610304 api.py:598] Block input: efficientnet-lite4/model/blocks_11/Add:0 shape: (1, 14, 14, 112)\n",
      "I0728 18:38:39.380327 140369404610304 api.py:598] Block input depth: 112 output depth: 112\n",
      "I0728 18:38:39.421236 140369404610304 api.py:598] Expand: efficientnet-lite4/model/blocks_12/Relu6:0 shape: (1, 14, 14, 672)\n",
      "I0728 18:38:39.462055 140369404610304 api.py:598] DWConv: efficientnet-lite4/model/blocks_12/Relu6_1:0 shape: (1, 14, 14, 672)\n",
      "I0728 18:38:39.503492 140369404610304 api.py:598] Project: efficientnet-lite4/model/blocks_12/Add:0 shape: (1, 14, 14, 112)\n",
      "I0728 18:38:39.507617 140369404610304 api.py:598] block_13 survival_prob: 0.9133333333333333\n",
      "I0728 18:38:39.510885 140369404610304 api.py:598] Block input: efficientnet-lite4/model/blocks_12/Add:0 shape: (1, 14, 14, 112)\n",
      "I0728 18:38:39.513988 140369404610304 api.py:598] Block input depth: 112 output depth: 112\n",
      "I0728 18:38:39.553794 140369404610304 api.py:598] Expand: efficientnet-lite4/model/blocks_13/Relu6:0 shape: (1, 14, 14, 672)\n",
      "I0728 18:38:39.595651 140369404610304 api.py:598] DWConv: efficientnet-lite4/model/blocks_13/Relu6_1:0 shape: (1, 14, 14, 672)\n",
      "I0728 18:38:39.638064 140369404610304 api.py:598] Project: efficientnet-lite4/model/blocks_13/Add:0 shape: (1, 14, 14, 112)\n",
      "I0728 18:38:39.642146 140369404610304 api.py:598] block_14 survival_prob: 0.9066666666666667\n",
      "I0728 18:38:39.645452 140369404610304 api.py:598] Block input: efficientnet-lite4/model/blocks_13/Add:0 shape: (1, 14, 14, 112)\n",
      "I0728 18:38:39.648560 140369404610304 api.py:598] Block input depth: 112 output depth: 112\n",
      "I0728 18:38:39.689387 140369404610304 api.py:598] Expand: efficientnet-lite4/model/blocks_14/Relu6:0 shape: (1, 14, 14, 672)\n",
      "I0728 18:38:39.730962 140369404610304 api.py:598] DWConv: efficientnet-lite4/model/blocks_14/Relu6_1:0 shape: (1, 14, 14, 672)\n",
      "I0728 18:38:39.772864 140369404610304 api.py:598] Project: efficientnet-lite4/model/blocks_14/Add:0 shape: (1, 14, 14, 112)\n",
      "I0728 18:38:39.777002 140369404610304 api.py:598] block_15 survival_prob: 0.9\n",
      "I0728 18:38:39.780298 140369404610304 api.py:598] Block input: efficientnet-lite4/model/blocks_14/Add:0 shape: (1, 14, 14, 112)\n",
      "I0728 18:38:39.783416 140369404610304 api.py:598] Block input depth: 112 output depth: 160\n",
      "I0728 18:38:39.825223 140369404610304 api.py:598] Expand: efficientnet-lite4/model/blocks_15/Relu6:0 shape: (1, 14, 14, 672)\n",
      "I0728 18:38:39.868245 140369404610304 api.py:598] DWConv: efficientnet-lite4/model/blocks_15/Relu6_1:0 shape: (1, 14, 14, 672)\n",
      "I0728 18:38:39.911654 140369404610304 api.py:598] Project: efficientnet-lite4/model/blocks_15/Identity:0 shape: (1, 14, 14, 160)\n",
      "I0728 18:38:39.915694 140369404610304 api.py:598] block_16 survival_prob: 0.8933333333333333\n",
      "I0728 18:38:39.918958 140369404610304 api.py:598] Block input: efficientnet-lite4/model/blocks_15/Identity:0 shape: (1, 14, 14, 160)\n",
      "I0728 18:38:39.922041 140369404610304 api.py:598] Block input depth: 160 output depth: 160\n",
      "I0728 18:38:39.965641 140369404610304 api.py:598] Expand: efficientnet-lite4/model/blocks_16/Relu6:0 shape: (1, 14, 14, 960)\n",
      "I0728 18:38:40.009892 140369404610304 api.py:598] DWConv: efficientnet-lite4/model/blocks_16/Relu6_1:0 shape: (1, 14, 14, 960)\n",
      "I0728 18:38:40.054969 140369404610304 api.py:598] Project: efficientnet-lite4/model/blocks_16/Add:0 shape: (1, 14, 14, 160)\n",
      "I0728 18:38:40.059117 140369404610304 api.py:598] block_17 survival_prob: 0.8866666666666667\n",
      "I0728 18:38:40.062381 140369404610304 api.py:598] Block input: efficientnet-lite4/model/blocks_16/Add:0 shape: (1, 14, 14, 160)\n",
      "I0728 18:38:40.065467 140369404610304 api.py:598] Block input depth: 160 output depth: 160\n",
      "I0728 18:38:40.110097 140369404610304 api.py:598] Expand: efficientnet-lite4/model/blocks_17/Relu6:0 shape: (1, 14, 14, 960)\n",
      "I0728 18:38:40.155143 140369404610304 api.py:598] DWConv: efficientnet-lite4/model/blocks_17/Relu6_1:0 shape: (1, 14, 14, 960)\n"
     ]
    },
    {
     "name": "stdout",
     "output_type": "stream",
     "text": [
      "I0728 18:38:40.201478 140369404610304 api.py:598] Project: efficientnet-lite4/model/blocks_17/Add:0 shape: (1, 14, 14, 160)\n",
      "I0728 18:38:40.205547 140369404610304 api.py:598] block_18 survival_prob: 0.88\n",
      "I0728 18:38:40.208818 140369404610304 api.py:598] Block input: efficientnet-lite4/model/blocks_17/Add:0 shape: (1, 14, 14, 160)\n",
      "I0728 18:38:40.211917 140369404610304 api.py:598] Block input depth: 160 output depth: 160\n",
      "I0728 18:38:40.257478 140369404610304 api.py:598] Expand: efficientnet-lite4/model/blocks_18/Relu6:0 shape: (1, 14, 14, 960)\n",
      "I0728 18:38:40.304701 140369404610304 api.py:598] DWConv: efficientnet-lite4/model/blocks_18/Relu6_1:0 shape: (1, 14, 14, 960)\n",
      "I0728 18:38:40.352572 140369404610304 api.py:598] Project: efficientnet-lite4/model/blocks_18/Add:0 shape: (1, 14, 14, 160)\n",
      "I0728 18:38:40.356803 140369404610304 api.py:598] block_19 survival_prob: 0.8733333333333334\n",
      "I0728 18:38:40.360150 140369404610304 api.py:598] Block input: efficientnet-lite4/model/blocks_18/Add:0 shape: (1, 14, 14, 160)\n",
      "I0728 18:38:40.363296 140369404610304 api.py:598] Block input depth: 160 output depth: 160\n",
      "I0728 18:38:40.410593 140369404610304 api.py:598] Expand: efficientnet-lite4/model/blocks_19/Relu6:0 shape: (1, 14, 14, 960)\n",
      "I0728 18:38:40.459501 140369404610304 api.py:598] DWConv: efficientnet-lite4/model/blocks_19/Relu6_1:0 shape: (1, 14, 14, 960)\n",
      "I0728 18:38:40.508780 140369404610304 api.py:598] Project: efficientnet-lite4/model/blocks_19/Add:0 shape: (1, 14, 14, 160)\n",
      "I0728 18:38:40.512848 140369404610304 api.py:598] block_20 survival_prob: 0.8666666666666667\n",
      "I0728 18:38:40.516105 140369404610304 api.py:598] Block input: efficientnet-lite4/model/blocks_19/Add:0 shape: (1, 14, 14, 160)\n",
      "I0728 18:38:40.519201 140369404610304 api.py:598] Block input depth: 160 output depth: 160\n",
      "I0728 18:38:40.568380 140369404610304 api.py:598] Expand: efficientnet-lite4/model/blocks_20/Relu6:0 shape: (1, 14, 14, 960)\n",
      "I0728 18:38:40.618351 140369404610304 api.py:598] DWConv: efficientnet-lite4/model/blocks_20/Relu6_1:0 shape: (1, 14, 14, 960)\n",
      "I0728 18:38:40.668900 140369404610304 api.py:598] Project: efficientnet-lite4/model/blocks_20/Add:0 shape: (1, 14, 14, 160)\n",
      "I0728 18:38:40.673120 140369404610304 api.py:598] block_21 survival_prob: 0.86\n",
      "I0728 18:38:40.676375 140369404610304 api.py:598] Block input: efficientnet-lite4/model/blocks_20/Add:0 shape: (1, 14, 14, 160)\n",
      "I0728 18:38:40.679481 140369404610304 api.py:598] Block input depth: 160 output depth: 272\n",
      "I0728 18:38:40.729505 140369404610304 api.py:598] Expand: efficientnet-lite4/model/blocks_21/Relu6:0 shape: (1, 14, 14, 960)\n",
      "I0728 18:38:40.780965 140369404610304 api.py:598] DWConv: efficientnet-lite4/model/blocks_21/Relu6_1:0 shape: (1, 7, 7, 960)\n",
      "I0728 18:38:40.833344 140369404610304 api.py:598] Project: efficientnet-lite4/model/blocks_21/Identity:0 shape: (1, 7, 7, 272)\n",
      "I0728 18:38:40.837491 140369404610304 api.py:598] block_22 survival_prob: 0.8533333333333334\n",
      "I0728 18:38:40.840810 140369404610304 api.py:598] Block input: efficientnet-lite4/model/blocks_21/Identity:0 shape: (1, 7, 7, 272)\n",
      "I0728 18:38:40.843961 140369404610304 api.py:598] Block input depth: 272 output depth: 272\n",
      "I0728 18:38:40.898612 140369404610304 api.py:598] Expand: efficientnet-lite4/model/blocks_22/Relu6:0 shape: (1, 7, 7, 1632)\n",
      "I0728 18:38:40.955486 140369404610304 api.py:598] DWConv: efficientnet-lite4/model/blocks_22/Relu6_1:0 shape: (1, 7, 7, 1632)\n",
      "I0728 18:38:41.009653 140369404610304 api.py:598] Project: efficientnet-lite4/model/blocks_22/Add:0 shape: (1, 7, 7, 272)\n",
      "I0728 18:38:41.013726 140369404610304 api.py:598] block_23 survival_prob: 0.8466666666666667\n",
      "I0728 18:38:41.017010 140369404610304 api.py:598] Block input: efficientnet-lite4/model/blocks_22/Add:0 shape: (1, 7, 7, 272)\n",
      "I0728 18:38:41.020125 140369404610304 api.py:598] Block input depth: 272 output depth: 272\n",
      "I0728 18:38:41.076108 140369404610304 api.py:598] Expand: efficientnet-lite4/model/blocks_23/Relu6:0 shape: (1, 7, 7, 1632)\n",
      "I0728 18:38:41.133105 140369404610304 api.py:598] DWConv: efficientnet-lite4/model/blocks_23/Relu6_1:0 shape: (1, 7, 7, 1632)\n",
      "I0728 18:38:41.187577 140369404610304 api.py:598] Project: efficientnet-lite4/model/blocks_23/Add:0 shape: (1, 7, 7, 272)\n",
      "I0728 18:38:41.191740 140369404610304 api.py:598] block_24 survival_prob: 0.8400000000000001\n",
      "I0728 18:38:41.195037 140369404610304 api.py:598] Block input: efficientnet-lite4/model/blocks_23/Add:0 shape: (1, 7, 7, 272)\n",
      "I0728 18:38:41.198164 140369404610304 api.py:598] Block input depth: 272 output depth: 272\n",
      "I0728 18:38:41.255691 140369404610304 api.py:598] Expand: efficientnet-lite4/model/blocks_24/Relu6:0 shape: (1, 7, 7, 1632)\n",
      "I0728 18:38:41.313794 140369404610304 api.py:598] DWConv: efficientnet-lite4/model/blocks_24/Relu6_1:0 shape: (1, 7, 7, 1632)\n",
      "I0728 18:38:41.369845 140369404610304 api.py:598] Project: efficientnet-lite4/model/blocks_24/Add:0 shape: (1, 7, 7, 272)\n",
      "I0728 18:38:41.374505 140369404610304 api.py:598] block_25 survival_prob: 0.8333333333333334\n",
      "I0728 18:38:41.377782 140369404610304 api.py:598] Block input: efficientnet-lite4/model/blocks_24/Add:0 shape: (1, 7, 7, 272)\n",
      "I0728 18:38:41.380885 140369404610304 api.py:598] Block input depth: 272 output depth: 272\n",
      "I0728 18:38:41.506290 140369404610304 api.py:598] Expand: efficientnet-lite4/model/blocks_25/Relu6:0 shape: (1, 7, 7, 1632)\n",
      "I0728 18:38:41.566279 140369404610304 api.py:598] DWConv: efficientnet-lite4/model/blocks_25/Relu6_1:0 shape: (1, 7, 7, 1632)\n",
      "I0728 18:38:41.623643 140369404610304 api.py:598] Project: efficientnet-lite4/model/blocks_25/Add:0 shape: (1, 7, 7, 272)\n",
      "I0728 18:38:41.627821 140369404610304 api.py:598] block_26 survival_prob: 0.8266666666666667\n",
      "I0728 18:38:41.631087 140369404610304 api.py:598] Block input: efficientnet-lite4/model/blocks_25/Add:0 shape: (1, 7, 7, 272)\n",
      "I0728 18:38:41.634181 140369404610304 api.py:598] Block input depth: 272 output depth: 272\n",
      "I0728 18:38:41.694212 140369404610304 api.py:598] Expand: efficientnet-lite4/model/blocks_26/Relu6:0 shape: (1, 7, 7, 1632)\n",
      "I0728 18:38:41.756402 140369404610304 api.py:598] DWConv: efficientnet-lite4/model/blocks_26/Relu6_1:0 shape: (1, 7, 7, 1632)\n",
      "I0728 18:38:41.816646 140369404610304 api.py:598] Project: efficientnet-lite4/model/blocks_26/Add:0 shape: (1, 7, 7, 272)\n",
      "I0728 18:38:41.820887 140369404610304 api.py:598] block_27 survival_prob: 0.8200000000000001\n",
      "I0728 18:38:41.824216 140369404610304 api.py:598] Block input: efficientnet-lite4/model/blocks_26/Add:0 shape: (1, 7, 7, 272)\n",
      "I0728 18:38:41.827355 140369404610304 api.py:598] Block input depth: 272 output depth: 272\n",
      "I0728 18:38:41.888928 140369404610304 api.py:598] Expand: efficientnet-lite4/model/blocks_27/Relu6:0 shape: (1, 7, 7, 1632)\n",
      "I0728 18:38:41.952567 140369404610304 api.py:598] DWConv: efficientnet-lite4/model/blocks_27/Relu6_1:0 shape: (1, 7, 7, 1632)\n",
      "I0728 18:38:42.014322 140369404610304 api.py:598] Project: efficientnet-lite4/model/blocks_27/Add:0 shape: (1, 7, 7, 272)\n",
      "I0728 18:38:42.018583 140369404610304 api.py:598] block_28 survival_prob: 0.8133333333333334\n",
      "I0728 18:38:42.021914 140369404610304 api.py:598] Block input: efficientnet-lite4/model/blocks_27/Add:0 shape: (1, 7, 7, 272)\n",
      "I0728 18:38:42.025097 140369404610304 api.py:598] Block input depth: 272 output depth: 272\n",
      "I0728 18:38:42.088882 140369404610304 api.py:598] Expand: efficientnet-lite4/model/blocks_28/Relu6:0 shape: (1, 7, 7, 1632)\n",
      "I0728 18:38:42.153645 140369404610304 api.py:598] DWConv: efficientnet-lite4/model/blocks_28/Relu6_1:0 shape: (1, 7, 7, 1632)\n",
      "I0728 18:38:42.215824 140369404610304 api.py:598] Project: efficientnet-lite4/model/blocks_28/Add:0 shape: (1, 7, 7, 272)\n",
      "I0728 18:38:42.219837 140369404610304 api.py:598] block_29 survival_prob: 0.8066666666666666\n",
      "I0728 18:38:42.223104 140369404610304 api.py:598] Block input: efficientnet-lite4/model/blocks_28/Add:0 shape: (1, 7, 7, 272)\n",
      "I0728 18:38:42.226201 140369404610304 api.py:598] Block input depth: 272 output depth: 448\n",
      "I0728 18:38:42.291969 140369404610304 api.py:598] Expand: efficientnet-lite4/model/blocks_29/Relu6:0 shape: (1, 7, 7, 1632)\n",
      "I0728 18:38:42.357661 140369404610304 api.py:598] DWConv: efficientnet-lite4/model/blocks_29/Relu6_1:0 shape: (1, 7, 7, 1632)\n",
      "I0728 18:38:42.419715 140369404610304 api.py:598] Project: efficientnet-lite4/model/blocks_29/Identity:0 shape: (1, 7, 7, 448)\n"
     ]
    },
    {
     "name": "stdout",
     "output_type": "stream",
     "text": [
      "I0728 18:38:43.860869 140369404610304 saver.py:1293] Restoring parameters from efficientnet-lite4/model.ckpt\n",
      "W0728 18:38:44.179851 140369404610304 deprecation.py:323] From /opt/anaconda3/lib/python3.7/site-packages/tensorflow/python/saved_model/signature_def_utils_impl.py:201: build_tensor_info (from tensorflow.python.saved_model.utils_impl) is deprecated and will be removed in a future version.\n",
      "Instructions for updating:\n",
      "This function will only be available through the v1 compatibility library as tf.compat.v1.saved_model.utils.build_tensor_info or tf.compat.v1.saved_model.build_tensor_info.\n",
      "I0728 18:38:44.180820 140369404610304 builder_impl.py:641] No assets to save.\n",
      "I0728 18:38:44.180942 140369404610304 builder_impl.py:461] No assets to write.\n",
      "I0728 18:38:45.091564 140369404610304 builder_impl.py:426] SavedModel written to: saved_model/saved_model.pb\n",
      "Saved model written to saved_model\n",
      "2020-07-28 18:38:45.207465: I tensorflow/core/grappler/devices.cc:69] Number of eligible GPUs (core count >= 8, compute capability >= 0.0): 0\n",
      "2020-07-28 18:38:45.207571: I tensorflow/core/grappler/clusters/single_machine.cc:356] Starting new session\n",
      "2020-07-28 18:38:45.288588: I tensorflow/core/grappler/optimizers/meta_optimizer.cc:816] Optimization results for grappler item: graph_to_optimize\n",
      "2020-07-28 18:38:45.288632: I tensorflow/core/grappler/optimizers/meta_optimizer.cc:818]   function_optimizer: function_optimizer did nothing. time = 0.003ms.\n",
      "2020-07-28 18:38:45.288637: I tensorflow/core/grappler/optimizers/meta_optimizer.cc:818]   function_optimizer: function_optimizer did nothing. time = 0ms.\n",
      "W0728 18:38:45.429831 140369404610304 deprecation.py:323] From /opt/anaconda3/lib/python3.7/site-packages/tensorflow/lite/python/util.py:275: convert_variables_to_constants (from tensorflow.python.framework.graph_util_impl) is deprecated and will be removed in a future version.\n",
      "Instructions for updating:\n",
      "Use `tf.compat.v1.graph_util.convert_variables_to_constants`\n",
      "W0728 18:38:45.430049 140369404610304 deprecation.py:323] From /opt/anaconda3/lib/python3.7/site-packages/tensorflow/python/framework/convert_to_constants.py:854: extract_sub_graph (from tensorflow.python.framework.graph_util_impl) is deprecated and will be removed in a future version.\n",
      "Instructions for updating:\n",
      "Use `tf.compat.v1.graph_util.extract_sub_graph`\n",
      "Traceback (most recent call last):\n",
      "  File \"export_model.py\", line 164, in <module>\n",
      "    app.run(main)\n",
      "  File \"/opt/anaconda3/lib/python3.7/site-packages/absl/app.py\", line 300, in run\n",
      "    _run_main(main, args)\n",
      "  File \"/opt/anaconda3/lib/python3.7/site-packages/absl/app.py\", line 251, in _run_main\n",
      "    sys.exit(main(argv))\n",
      "  File \"export_model.py\", line 142, in main\n",
      "    \"Post training quantization requires data_dir flag to point to the \"\n",
      "ValueError: Post training quantization requires data_dir flag to point to the calibration dataset. To export a float model, set --quantize=False.\n"
     ]
    }
   ],
   "source": [
    "!python export_model.py --model_name=efficientnet-lite4 --ckpt_dir=efficientnet-lite4 --output_saved_model_dir=saved_model --output_tflite=/tmp/t"
   ]
  },
  {
   "cell_type": "markdown",
   "metadata": {},
   "source": [
    "A look at the saved_model shows us the inputs and outputs of the model:"
   ]
  },
  {
   "cell_type": "code",
   "execution_count": 8,
   "metadata": {},
   "outputs": [
    {
     "name": "stdout",
     "output_type": "stream",
     "text": [
      "2020-07-28 18:39:04.610520: I tensorflow/stream_executor/platform/default/dso_loader.cc:48] Successfully opened dynamic library libcudart.so.10.1\n",
      "The given SavedModel SignatureDef contains the following input(s):\n",
      "  inputs['input'] tensor_info:\n",
      "      dtype: DT_FLOAT\n",
      "      shape: (1, 224, 224, 3)\n",
      "      name: images:0\n",
      "The given SavedModel SignatureDef contains the following output(s):\n",
      "  outputs['output'] tensor_info:\n",
      "      dtype: DT_FLOAT\n",
      "      shape: (1, 1000)\n",
      "      name: Softmax:0\n",
      "Method name is: tensorflow/serving/predict\n"
     ]
    }
   ],
   "source": [
    "!saved_model_cli show --dir saved_model --tag_set serve  --signature_def serving_default"
   ]
  },
  {
   "cell_type": "markdown",
   "metadata": {},
   "source": [
    "Install and run tf2onnx directly on the saved_model:"
   ]
  },
  {
   "cell_type": "code",
   "execution_count": null,
   "metadata": {},
   "outputs": [],
   "source": [
    "!pip install git+https://github.com/onnx/tensorflow-onnx\n",
    "!pip install onnxruntime"
   ]
  },
  {
   "cell_type": "code",
   "execution_count": 20,
   "metadata": {
    "scrolled": false
   },
   "outputs": [
    {
     "name": "stdout",
     "output_type": "stream",
     "text": [
      "2020-07-28 18:46:47,661 - INFO - Using tensorflow=2.3.0, onnx=1.7.0, tf2onnx=1.6.3/d4abc8\n",
      "2020-07-28 18:46:47,661 - INFO - Using opset <onnx, 11>\n",
      "2020-07-28 18:46:54,218 - INFO - Optimizing ONNX model\n",
      "2020-07-28 18:47:02,196 - INFO - After optimization: BatchNormalization -84 (91->7), Const -402 (609->207), Identity -33 (33->0), Reshape -30 (30->0), Transpose -395 (396->1)\n",
      "2020-07-28 18:47:02,219 - INFO - \n",
      "2020-07-28 18:47:02,219 - INFO - Successfully converted TensorFlow model saved_model to ONNX\n",
      "2020-07-28 18:47:02,290 - INFO - ONNX model is saved at efficientnet-lite4.onnx\n"
     ]
    }
   ],
   "source": [
    "!python -m tf2onnx.convert --opset 11 --saved-model saved_model --output $MODEL.onnx"
   ]
  },
  {
   "cell_type": "markdown",
   "metadata": {},
   "source": [
    "Now that we have the ONNX model we can write a quick demo using onnxruntime:"
   ]
  },
  {
   "cell_type": "code",
   "execution_count": 16,
   "metadata": {},
   "outputs": [
    {
     "name": "stderr",
     "output_type": "stream",
     "text": []
    },
    {
     "data": {
      "image/png": "[encoded data removed]",
      "text/plain": [
       "<Figure size 432x288 with 1 Axes>"
      ]
     },
     "metadata": {
      "needs_background": "light"
     },
     "output_type": "display_data"
    }
   ],
   "source": [
    "%matplotlib inline\n",
    "\n",
    "import numpy as np\n",
    "import math\n",
    "import matplotlib.pyplot as plt\n",
    "import onnxruntime as rt\n",
    "import cv2\n",
    "import json\n",
    "\n",
    "labels = json.load(open(\"labels_map.txt\", \"r\"))\n",
    "\n",
    "\n",
    "def img_stats(a, name={}):\n",
    "    return {\n",
    "        \"name\": name,\n",
    "        \"size\": a.shape,\n",
    "        \"mean\": \"{:.2f}\".format(a.mean()),\n",
    "        \"std\": \"{:.2f}\".format(a.std()),\n",
    "        \"max\": a.max(),\n",
    "        \"min\": a.min(),\n",
    "        \"median\": \"{:.2f}\".format(np.median(a)),\n",
    "    }\n",
    "\n",
    "\n",
    "def center_crop(img, out_height, out_width):\n",
    "    height, width, _ = img.shape\n",
    "    left = int((width - out_width) / 2)\n",
    "    right = int((width + out_width) / 2)\n",
    "    top = int((height - out_height) / 2)\n",
    "    bottom = int((height + out_height) / 2)\n",
    "    img = img[top:bottom, left:right]\n",
    "    return img\n",
    "\n",
    "\n",
    "def resize_with_aspectratio(img, out_height, out_width, scale=87.5, inter_pol=cv2.INTER_LINEAR):\n",
    "    height, width, _ = img.shape\n",
    "    new_height = int(100. * out_height / scale)\n",
    "    new_width = int(100. * out_width / scale)\n",
    "    if height > width:\n",
    "        w = new_width\n",
    "        h = int(new_height * height / width)\n",
    "    else:\n",
    "        h = new_height\n",
    "        w = int(new_width * width / height)\n",
    "    img = cv2.resize(img, (w, h), interpolation=inter_pol)\n",
    "    return img\n",
    "\n",
    "\n",
    "def pre_process_edgetpu(img, dims):\n",
    "    output_height, output_width, _ = dims\n",
    "    img = resize_with_aspectratio(img, output_height, output_width, inter_pol=cv2.INTER_LINEAR)\n",
    "    img = center_crop(img, output_height, output_width)\n",
    "    img = np.asarray(img, dtype='float32')\n",
    "    img -= [127.0, 127.0, 127.0]\n",
    "    img /= [128.0, 128.0, 128.0]\n",
    "    return img\n",
    "\n",
    "\n",
    "# read the image\n",
    "fname = \"panda.jpg\"\n",
    "fname = \"grizzly.jpg\"\n",
    "img = cv2.imread(fname)\n",
    "img = cv2.cvtColor(img, cv2.COLOR_BGR2RGB)\n",
    "\n",
    "# pre-process the image like mobilenet and resize it to 300x300\n",
    "img = pre_process_edgetpu(img, (224, 224, 3))\n",
    "plt.axis('off')\n",
    "plt.imshow(img)\n",
    "plt.show()\n",
    "\n",
    "# create a batch of 1 (that batch size is buned into the saved_model)\n",
    "img_batch = np.expand_dims(img, axis=0)"
   ]
  },
  {
   "cell_type": "code",
   "execution_count": 17,
   "metadata": {},
   "outputs": [],
   "source": [
    "# load the model\n",
    "sess = rt.InferenceSession(MODEL + \".onnx\")"
   ]
  },
  {
   "cell_type": "code",
   "execution_count": 19,
   "metadata": {},
   "outputs": [
    {
     "name": "stdout",
     "output_type": "stream",
     "text": [
      "294 brown bear, bruin, Ursus arctos 0.99992037\n",
      "295 American black bear, black bear, Ursus americanus, Euarctos americanus 5.6639532e-05\n",
      "297 sloth bear, Melursus ursinus, Ursus ursinus 4.688604e-06\n",
      "342 wild boar, boar, Sus scrofa 9.999384e-07\n",
      "364 three-toed sloth, ai, Bradypus tridactylus 6.836822e-07\n"
     ]
    }
   ],
   "source": [
    "# run inference and print results\n",
    "results = sess.run([\"Softmax:0\"], {\"images:0\": img_batch})[0]\n",
    "result = reversed(results[0].argsort()[-5:])\n",
    "for r in result:\n",
    "    print(r, labels[str(r)], results[0][r])"
   ]
  },
  {
   "cell_type": "code",
   "execution_count": null,
   "metadata": {},
   "outputs": [],
   "source": []
  }
 ],
 "metadata": {
  "kernelspec": {
   "display_name": "Python 3",
   "language": "python",
   "name": "python3"
  },
  "language_info": {
   "codemirror_mode": {
    "name": "ipython",
    "version": 3
   },
   "file_extension": ".py",
   "mimetype": "text/x-python",
   "name": "python",
   "nbconvert_exporter": "python",
   "pygments_lexer": "ipython3",
   "version": "3.7.3"
  },
  "varInspector": {
   "cols": {
    "lenName": 16,
    "lenType": 16,
    "lenVar": 40
   },
   "kernels_config": {
    "python": {
     "delete_cmd_postfix": "",
     "delete_cmd_prefix": "del ",
     "library": "var_list.py",
     "varRefreshCmd": "print(var_dic_list())"
    },
    "r": {
     "delete_cmd_postfix": ") ",
     "delete_cmd_prefix": "rm(",
     "library": "var_list.r",
     "varRefreshCmd": "cat(var_dic_list()) "
    }
   },
   "types_to_exclude": [
    "module",
    "function",
    "builtin_function_or_method",
    "instance",
    "_Feature"
   ],
   "window_display": false
  }
 },
 "nbformat": 4,
 "nbformat_minor": 2
}
